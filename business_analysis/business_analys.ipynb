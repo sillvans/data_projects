{
 "cells": [
  {
   "cell_type": "markdown",
   "metadata": {},
   "source": [
    "# НЕФТЯНАЯ СКВАЖИНА"
   ]
  },
  {
   "cell_type": "markdown",
   "metadata": {},
   "source": [
    "В проекте необходимо определить наиболее выгодный регион нефтедобычи.\n",
    "\n",
    "В качестве исходных данных в 3 регионах изучено 10 000 месторождений, где измерили качество нефти и объём её запасов. Необходимо построить модель машинного обучения, которая поможет определить регион, где добыча принесёт наибольшую прибыль. Для анализа будет использован *Bootstrap.* В данных представлены основне значимые признаки, определяющие емкость скважины (f0, f1, f2).\n",
    "\n",
    "План работы над проектом:\n",
    "- Загрузка и подготовка данных\n",
    "- Обучение и проверка модели\n",
    "- Подготовка к расчету прибыли\n",
    "- Расчет прибыли и рисков\n",
    "- Выводы по проекту"
   ]
  },
  {
   "cell_type": "markdown",
   "metadata": {
    "tags": []
   },
   "source": [
    "## Загрузка и подготовка данных"
   ]
  },
  {
   "cell_type": "code",
   "execution_count": 1,
   "metadata": {},
   "outputs": [],
   "source": [
    "#импорт библиотек\n",
    "import pandas as pd\n",
    "import plotly as plt\n",
    "import matplotlib.pyplot as plt\n",
    "import numpy as np\n",
    "#!pip install plotly_express\n",
    "#импортируем необходимые библиотеки\n",
    "import plotly.express as px\n",
    "pd.set_option('display.max_columns', 300)\n",
    "%matplotlib inline\n",
    "from scipy import stats as st\n",
    "from math import factorial\n",
    "import math\n",
    "from scipy import stats as st\n",
    "\n",
    "\n",
    "from sklearn.model_selection import train_test_split\n",
    "from sklearn.tree import DecisionTreeClassifier\n",
    "from sklearn.metrics import accuracy_score\n",
    "from sklearn.ensemble import RandomForestClassifier\n",
    "from sklearn.linear_model import LogisticRegression\n",
    "\n",
    "import random\n",
    "\n",
    "from sklearn.preprocessing import StandardScaler\n",
    "from sklearn.linear_model import LogisticRegression\n",
    "from sklearn.metrics import f1_score \n",
    "from sklearn.utils import shuffle\n",
    "from sklearn.metrics import roc_auc_score\n",
    "from sklearn.metrics import roc_curve\n",
    "from sklearn.metrics import mean_absolute_percentage_error\n",
    "from sklearn.ensemble import RandomForestRegressor\n",
    "from sklearn.metrics import mean_absolute_error\n",
    "from sklearn.linear_model import LinearRegression\n",
    "from sklearn.tree import DecisionTreeRegressor\n",
    "from sklearn.metrics import mean_squared_error\n"
   ]
  },
  {
   "cell_type": "code",
   "execution_count": 2,
   "metadata": {
    "tags": []
   },
   "outputs": [],
   "source": [
    "#выгрузка данных\n",
    "df_0 = pd.read_csv('C:/DATA/geo_data_0.csv')\n",
    "df_1 = pd.read_csv('C:/DATA/geo_data_1.csv')\n",
    "df_2 = pd.read_csv('C:/DATA/geo_data_2.csv')"
   ]
  },
  {
   "cell_type": "code",
   "execution_count": 3,
   "metadata": {},
   "outputs": [
    {
     "data": {
      "text/html": [
       "<div>\n",
       "<style scoped>\n",
       "    .dataframe tbody tr th:only-of-type {\n",
       "        vertical-align: middle;\n",
       "    }\n",
       "\n",
       "    .dataframe tbody tr th {\n",
       "        vertical-align: top;\n",
       "    }\n",
       "\n",
       "    .dataframe thead th {\n",
       "        text-align: right;\n",
       "    }\n",
       "</style>\n",
       "<table border=\"1\" class=\"dataframe\">\n",
       "  <thead>\n",
       "    <tr style=\"text-align: right;\">\n",
       "      <th></th>\n",
       "      <th>id</th>\n",
       "      <th>f0</th>\n",
       "      <th>f1</th>\n",
       "      <th>f2</th>\n",
       "      <th>product</th>\n",
       "    </tr>\n",
       "  </thead>\n",
       "  <tbody>\n",
       "    <tr>\n",
       "      <th>0</th>\n",
       "      <td>txEyH</td>\n",
       "      <td>0.705745</td>\n",
       "      <td>-0.497823</td>\n",
       "      <td>1.221170</td>\n",
       "      <td>105.280062</td>\n",
       "    </tr>\n",
       "    <tr>\n",
       "      <th>1</th>\n",
       "      <td>2acmU</td>\n",
       "      <td>1.334711</td>\n",
       "      <td>-0.340164</td>\n",
       "      <td>4.365080</td>\n",
       "      <td>73.037750</td>\n",
       "    </tr>\n",
       "    <tr>\n",
       "      <th>2</th>\n",
       "      <td>409Wp</td>\n",
       "      <td>1.022732</td>\n",
       "      <td>0.151990</td>\n",
       "      <td>1.419926</td>\n",
       "      <td>85.265647</td>\n",
       "    </tr>\n",
       "    <tr>\n",
       "      <th>3</th>\n",
       "      <td>iJLyR</td>\n",
       "      <td>-0.032172</td>\n",
       "      <td>0.139033</td>\n",
       "      <td>2.978566</td>\n",
       "      <td>168.620776</td>\n",
       "    </tr>\n",
       "    <tr>\n",
       "      <th>4</th>\n",
       "      <td>Xdl7t</td>\n",
       "      <td>1.988431</td>\n",
       "      <td>0.155413</td>\n",
       "      <td>4.751769</td>\n",
       "      <td>154.036647</td>\n",
       "    </tr>\n",
       "  </tbody>\n",
       "</table>\n",
       "</div>"
      ],
      "text/plain": [
       "      id        f0        f1        f2     product\n",
       "0  txEyH  0.705745 -0.497823  1.221170  105.280062\n",
       "1  2acmU  1.334711 -0.340164  4.365080   73.037750\n",
       "2  409Wp  1.022732  0.151990  1.419926   85.265647\n",
       "3  iJLyR -0.032172  0.139033  2.978566  168.620776\n",
       "4  Xdl7t  1.988431  0.155413  4.751769  154.036647"
      ]
     },
     "metadata": {},
     "output_type": "display_data"
    },
    {
     "name": "stdout",
     "output_type": "stream",
     "text": [
      "<class 'pandas.core.frame.DataFrame'>\n",
      "RangeIndex: 100000 entries, 0 to 99999\n",
      "Data columns (total 5 columns):\n",
      " #   Column   Non-Null Count   Dtype  \n",
      "---  ------   --------------   -----  \n",
      " 0   id       100000 non-null  object \n",
      " 1   f0       100000 non-null  float64\n",
      " 2   f1       100000 non-null  float64\n",
      " 3   f2       100000 non-null  float64\n",
      " 4   product  100000 non-null  float64\n",
      "dtypes: float64(4), object(1)\n",
      "memory usage: 3.8+ MB\n"
     ]
    },
    {
     "data": {
      "text/html": [
       "<div>\n",
       "<style scoped>\n",
       "    .dataframe tbody tr th:only-of-type {\n",
       "        vertical-align: middle;\n",
       "    }\n",
       "\n",
       "    .dataframe tbody tr th {\n",
       "        vertical-align: top;\n",
       "    }\n",
       "\n",
       "    .dataframe thead th {\n",
       "        text-align: right;\n",
       "    }\n",
       "</style>\n",
       "<table border=\"1\" class=\"dataframe\">\n",
       "  <thead>\n",
       "    <tr style=\"text-align: right;\">\n",
       "      <th></th>\n",
       "      <th>id</th>\n",
       "      <th>f0</th>\n",
       "      <th>f1</th>\n",
       "      <th>f2</th>\n",
       "      <th>product</th>\n",
       "    </tr>\n",
       "  </thead>\n",
       "  <tbody>\n",
       "    <tr>\n",
       "      <th>0</th>\n",
       "      <td>kBEdx</td>\n",
       "      <td>-15.001348</td>\n",
       "      <td>-8.276000</td>\n",
       "      <td>-0.005876</td>\n",
       "      <td>3.179103</td>\n",
       "    </tr>\n",
       "    <tr>\n",
       "      <th>1</th>\n",
       "      <td>62mP7</td>\n",
       "      <td>14.272088</td>\n",
       "      <td>-3.475083</td>\n",
       "      <td>0.999183</td>\n",
       "      <td>26.953261</td>\n",
       "    </tr>\n",
       "    <tr>\n",
       "      <th>2</th>\n",
       "      <td>vyE1P</td>\n",
       "      <td>6.263187</td>\n",
       "      <td>-5.948386</td>\n",
       "      <td>5.001160</td>\n",
       "      <td>134.766305</td>\n",
       "    </tr>\n",
       "    <tr>\n",
       "      <th>3</th>\n",
       "      <td>KcrkZ</td>\n",
       "      <td>-13.081196</td>\n",
       "      <td>-11.506057</td>\n",
       "      <td>4.999415</td>\n",
       "      <td>137.945408</td>\n",
       "    </tr>\n",
       "    <tr>\n",
       "      <th>4</th>\n",
       "      <td>AHL4O</td>\n",
       "      <td>12.702195</td>\n",
       "      <td>-8.147433</td>\n",
       "      <td>5.004363</td>\n",
       "      <td>134.766305</td>\n",
       "    </tr>\n",
       "  </tbody>\n",
       "</table>\n",
       "</div>"
      ],
      "text/plain": [
       "      id         f0         f1        f2     product\n",
       "0  kBEdx -15.001348  -8.276000 -0.005876    3.179103\n",
       "1  62mP7  14.272088  -3.475083  0.999183   26.953261\n",
       "2  vyE1P   6.263187  -5.948386  5.001160  134.766305\n",
       "3  KcrkZ -13.081196 -11.506057  4.999415  137.945408\n",
       "4  AHL4O  12.702195  -8.147433  5.004363  134.766305"
      ]
     },
     "metadata": {},
     "output_type": "display_data"
    },
    {
     "name": "stdout",
     "output_type": "stream",
     "text": [
      "<class 'pandas.core.frame.DataFrame'>\n",
      "RangeIndex: 100000 entries, 0 to 99999\n",
      "Data columns (total 5 columns):\n",
      " #   Column   Non-Null Count   Dtype  \n",
      "---  ------   --------------   -----  \n",
      " 0   id       100000 non-null  object \n",
      " 1   f0       100000 non-null  float64\n",
      " 2   f1       100000 non-null  float64\n",
      " 3   f2       100000 non-null  float64\n",
      " 4   product  100000 non-null  float64\n",
      "dtypes: float64(4), object(1)\n",
      "memory usage: 3.8+ MB\n"
     ]
    },
    {
     "data": {
      "text/html": [
       "<div>\n",
       "<style scoped>\n",
       "    .dataframe tbody tr th:only-of-type {\n",
       "        vertical-align: middle;\n",
       "    }\n",
       "\n",
       "    .dataframe tbody tr th {\n",
       "        vertical-align: top;\n",
       "    }\n",
       "\n",
       "    .dataframe thead th {\n",
       "        text-align: right;\n",
       "    }\n",
       "</style>\n",
       "<table border=\"1\" class=\"dataframe\">\n",
       "  <thead>\n",
       "    <tr style=\"text-align: right;\">\n",
       "      <th></th>\n",
       "      <th>id</th>\n",
       "      <th>f0</th>\n",
       "      <th>f1</th>\n",
       "      <th>f2</th>\n",
       "      <th>product</th>\n",
       "    </tr>\n",
       "  </thead>\n",
       "  <tbody>\n",
       "    <tr>\n",
       "      <th>0</th>\n",
       "      <td>fwXo0</td>\n",
       "      <td>-1.146987</td>\n",
       "      <td>0.963328</td>\n",
       "      <td>-0.828965</td>\n",
       "      <td>27.758673</td>\n",
       "    </tr>\n",
       "    <tr>\n",
       "      <th>1</th>\n",
       "      <td>WJtFt</td>\n",
       "      <td>0.262778</td>\n",
       "      <td>0.269839</td>\n",
       "      <td>-2.530187</td>\n",
       "      <td>56.069697</td>\n",
       "    </tr>\n",
       "    <tr>\n",
       "      <th>2</th>\n",
       "      <td>ovLUW</td>\n",
       "      <td>0.194587</td>\n",
       "      <td>0.289035</td>\n",
       "      <td>-5.586433</td>\n",
       "      <td>62.871910</td>\n",
       "    </tr>\n",
       "    <tr>\n",
       "      <th>3</th>\n",
       "      <td>q6cA6</td>\n",
       "      <td>2.236060</td>\n",
       "      <td>-0.553760</td>\n",
       "      <td>0.930038</td>\n",
       "      <td>114.572842</td>\n",
       "    </tr>\n",
       "    <tr>\n",
       "      <th>4</th>\n",
       "      <td>WPMUX</td>\n",
       "      <td>-0.515993</td>\n",
       "      <td>1.716266</td>\n",
       "      <td>5.899011</td>\n",
       "      <td>149.600746</td>\n",
       "    </tr>\n",
       "  </tbody>\n",
       "</table>\n",
       "</div>"
      ],
      "text/plain": [
       "      id        f0        f1        f2     product\n",
       "0  fwXo0 -1.146987  0.963328 -0.828965   27.758673\n",
       "1  WJtFt  0.262778  0.269839 -2.530187   56.069697\n",
       "2  ovLUW  0.194587  0.289035 -5.586433   62.871910\n",
       "3  q6cA6  2.236060 -0.553760  0.930038  114.572842\n",
       "4  WPMUX -0.515993  1.716266  5.899011  149.600746"
      ]
     },
     "metadata": {},
     "output_type": "display_data"
    },
    {
     "name": "stdout",
     "output_type": "stream",
     "text": [
      "<class 'pandas.core.frame.DataFrame'>\n",
      "RangeIndex: 100000 entries, 0 to 99999\n",
      "Data columns (total 5 columns):\n",
      " #   Column   Non-Null Count   Dtype  \n",
      "---  ------   --------------   -----  \n",
      " 0   id       100000 non-null  object \n",
      " 1   f0       100000 non-null  float64\n",
      " 2   f1       100000 non-null  float64\n",
      " 3   f2       100000 non-null  float64\n",
      " 4   product  100000 non-null  float64\n",
      "dtypes: float64(4), object(1)\n",
      "memory usage: 3.8+ MB\n"
     ]
    }
   ],
   "source": [
    "#оценим информацию в таблицах\n",
    "\n",
    "display(df_0.head(5))\n",
    "df_0.info()\n",
    "\n",
    "display(df_1.head(5))\n",
    "df_1.info()\n",
    "\n",
    "display(df_2.head(5))\n",
    "df_2.info()"
   ]
  },
  {
   "cell_type": "markdown",
   "metadata": {},
   "source": [
    "На первый взгляд каких-либо проблем в данных нет. В каждом городе по 10000 значений, нулевые значения отсутствуют. Избавимся от дубликатов, если они есть:"
   ]
  },
  {
   "cell_type": "code",
   "execution_count": 4,
   "metadata": {},
   "outputs": [],
   "source": [
    "df_0 = df_0.drop_duplicates().reset_index(drop=True)\n",
    "df_1 = df_1.drop_duplicates().reset_index(drop=True)\n",
    "df_2 = df_2.drop_duplicates().reset_index(drop=True)"
   ]
  },
  {
   "cell_type": "markdown",
   "metadata": {},
   "source": [
    "Модель должна быть обучена отдельно для каждого из регионов. Соответственно, подготовим для них целевые признаки и обучающие признаки отдельно:"
   ]
  },
  {
   "cell_type": "code",
   "execution_count": 5,
   "metadata": {},
   "outputs": [],
   "source": [
    "features_0 = df_0.drop(['id', 'product'], axis=1)\n",
    "target_0 = df_0['product']\n",
    "\n",
    "features_1 = df_1.drop(['id', 'product'], axis=1)\n",
    "target_1 = df_1['product']\n",
    "\n",
    "features_2 = df_2.drop(['id', 'product'], axis=1)\n",
    "target_2 = df_2['product']"
   ]
  },
  {
   "cell_type": "markdown",
   "metadata": {},
   "source": [
    "## Обучение и проверка модели"
   ]
  },
  {
   "cell_type": "markdown",
   "metadata": {},
   "source": [
    " Модель призвана определять количественную характеристику - объем запасов в скважине. Опыт подсказывает, что наибольшая точность модели обеспечивается случайным регрессионным лесом. Соответственно, такую модель мы и будем использовать в качестве основной. "
   ]
  },
  {
   "cell_type": "code",
   "execution_count": 6,
   "metadata": {},
   "outputs": [],
   "source": [
    "#опробуем обучение для нулевого региона\n",
    "#разобьем выборки в соответствии с заданием:\n",
    "\n",
    "features_train_0, features_valid_0, target_train_0, target_valid_0 = train_test_split(\n",
    "    features_0, target_0, test_size=.25 , random_state=12345)"
   ]
  },
  {
   "cell_type": "code",
   "execution_count": null,
   "metadata": {
    "tags": []
   },
   "outputs": [],
   "source": [
    "#определим наилучшие гиперпараметры модели:\n",
    "\n",
    "best_model = None\n",
    "best_r2 = 0\n",
    "best_depth = 0\n",
    "best_est = 0\n",
    "for est in range(1, 20):\n",
    "    for depth in range (1, 29):\n",
    "        model = RandomForestRegressor(random_state=12345, n_estimators=est, max_depth=depth) \n",
    "        model.fit(features_train_0, target_train_0)\n",
    "        \n",
    "        result = model.score(features_valid_0, target_valid_0)\n",
    "        print (result)\n",
    "           \n",
    "        if result > best_r2:\n",
    "            best_r2 = result\n",
    "            best_depth = depth\n",
    "            best_model = model\n",
    "            best_est = est\n",
    "\n",
    "print(\"Наилучший коэффициент множественной детерминации:\", best_r2, \"Количество деревьев:\", best_est, \"Максимальная глубина:\", depth)\n",
    "print('RMSE:', mean_squared_error())"
   ]
  },
  {
   "cell_type": "markdown",
   "metadata": {},
   "source": [
    "Дабы не обучать модель многократно каждый раз, зафиксируем наилучшие параметры:\n",
    "\n",
    "Лучшая доля правильных ответов 0.2968821496528229 Количество деревьев: 19 Максимальная глубина: 28\n",
    "Проверим, какие результаты покажет линейная регрессия:"
   ]
  },
  {
   "cell_type": "code",
   "execution_count": 7,
   "metadata": {},
   "outputs": [
    {
     "name": "stdout",
     "output_type": "stream",
     "text": [
      "R2 на валидационной выборке:  0.27994321524487786\n",
      "RMSE 37.5794217150813\n"
     ]
    }
   ],
   "source": [
    "features_train_0, features_valid_0, target_train_0, target_valid_0 = train_test_split(\n",
    "    features_0, target_0, test_size=.25 , random_state=12345)\n",
    "\n",
    "model = LinearRegression()\n",
    "model.fit(features_train_0, target_train_0)\n",
    "predictions_valid = model.predict(features_valid_0)\n",
    "print(\"R2 на валидационной выборке: \", model.score(features_valid_0, target_valid_0)) \n",
    "print(\"RMSE\", mean_squared_error(target_valid_0, predictions_valid) ** 0.5) "
   ]
  },
  {
   "cell_type": "markdown",
   "metadata": {},
   "source": [
    "Не смотря на то, что случайный лес показал лучшие результаты, заказчиком установлено использование линейной регрессии. Соответственно, далее будет использована модель линейной регрессии."
   ]
  },
  {
   "cell_type": "code",
   "execution_count": 8,
   "metadata": {},
   "outputs": [],
   "source": [
    "#напишем функцию, обучающую модель и рассчитывающую интересующие нас характеристики\n",
    "def geo_model(features, target):\n",
    "    features_train, features_valid, target_train, target_valid = train_test_split(\n",
    "    features, target, test_size=.25 , random_state=12345)\n",
    "    \n",
    "    #model = RandomForestRegressor(n_estimators=19, max_depth=28, random_state=123456 )\n",
    "    model = LinearRegression()\n",
    "    model.fit(features_train, target_train)\n",
    "    predictions_valid = model.predict(features_valid)\n",
    "    \n",
    "    return predictions_valid, mean_squared_error(target_valid, predictions_valid) ** 0.5, target_valid"
   ]
  },
  {
   "cell_type": "code",
   "execution_count": 9,
   "metadata": {},
   "outputs": [],
   "source": [
    "#Зафиксируем необходимые данные: предсказания, RMSE, правильные ответы\n",
    "prediction_valid_0, rmse_0, target_valid_0 = geo_model(features_0, target_0)\n",
    "prediction_valid_1, rmse_1, target_valid_1  = geo_model(features_1, target_1)\n",
    "prediction_valid_2, rmse_2, target_valid_2  = geo_model(features_2, target_2)\n",
    "\n"
   ]
  },
  {
   "cell_type": "code",
   "execution_count": 10,
   "metadata": {},
   "outputs": [
    {
     "name": "stdout",
     "output_type": "stream",
     "text": [
      "Средний запас предсказанного сырья в регионе 0: 92.59256778438035 , а RMSE - 37.5794217150813\n",
      "Средний запас предсказанного сырья в регионе 1: 68.72854689544602 , а RMSE - 0.8930992867756168\n",
      "Средний запас предсказанного сырья в регионе 2: 94.96504596800489 , а RMSE - 40.02970873393434\n"
     ]
    }
   ],
   "source": [
    "print ('Средний запас предсказанного сырья в регионе 0:', prediction_valid_0.mean(), ', а RMSE -', rmse_0)\n",
    "print ('Средний запас предсказанного сырья в регионе 1:', prediction_valid_1.mean(), ', а RMSE -', rmse_1)\n",
    "print ('Средний запас предсказанного сырья в регионе 2:', prediction_valid_2.mean(), ', а RMSE -', rmse_2)"
   ]
  },
  {
   "cell_type": "markdown",
   "metadata": {},
   "source": [
    "Результаты показывают, что для нулевого и второго региона, где в среднем запасы достаточно большие, оказывается велик и RMSE. Т.е. в среднем модель ошибается примерно на 40%, что не удивительно для уровня R2 в 0.30\n",
    "\n",
    "Для региона 1 результаты заметно лучше - RMSE на уровне 1% от среднего значения, т.е. модель предсказывает результаты лучше."
   ]
  },
  {
   "cell_type": "markdown",
   "metadata": {},
   "source": [
    "## Подготовка к расчёту прибыли"
   ]
  },
  {
   "cell_type": "markdown",
   "metadata": {},
   "source": [
    "Зафиксируем все исходные данные:"
   ]
  },
  {
   "cell_type": "code",
   "execution_count": 11,
   "metadata": {},
   "outputs": [],
   "source": [
    "n_all = 500\n",
    "n_top = 200\n",
    "budget = 10000000000\n",
    "barrel_price = 450000"
   ]
  },
  {
   "cell_type": "code",
   "execution_count": 12,
   "metadata": {},
   "outputs": [
    {
     "name": "stdout",
     "output_type": "stream",
     "text": [
      "Для окупаемости инвестиций в регион из одной скважины в среднем необходимо добывать 111.11111111111111 тысяч баррелей\n"
     ]
    }
   ],
   "source": [
    "#рассчитаем достаточный объем сырья для окупаемости:\n",
    "n_barrel = budget / barrel_price / n_top\n",
    "print ('Для окупаемости инвестиций в регион из одной скважины в среднем необходимо добывать', n_barrel, 'тысяч баррелей')"
   ]
  },
  {
   "cell_type": "code",
   "execution_count": 13,
   "metadata": {},
   "outputs": [],
   "source": [
    "def comparison_geo(df):\n",
    "    if df['product'].mean() >= n_barrel:\n",
    "        return 'Добыча в регионе, скорее всего, рентабельна'\n",
    "    return 'Добыча в регионе, скорее всего, не рентабельна'"
   ]
  },
  {
   "cell_type": "code",
   "execution_count": 14,
   "metadata": {},
   "outputs": [
    {
     "name": "stdout",
     "output_type": "stream",
     "text": [
      "Регион 0: Добыча в регионе, скорее всего, не рентабельна\n",
      "Регион 1: Добыча в регионе, скорее всего, не рентабельна\n",
      "Регион 2: Добыча в регионе, скорее всего, не рентабельна\n"
     ]
    }
   ],
   "source": [
    "print ('Регион 0:', comparison_geo(df_0))\n",
    "print ('Регион 1:', comparison_geo(df_1))\n",
    "print ('Регион 2:', comparison_geo(df_2))"
   ]
  },
  {
   "cell_type": "markdown",
   "metadata": {},
   "source": [
    "Такая ситуация связана с тем, что в среднем по региону есть как очень небогатые скважины, так и наоборот. Модель позволит ориентироваться только на богатые ресурсами скважины, что всё-таки сделает добычу рентабельной."
   ]
  },
  {
   "cell_type": "markdown",
   "metadata": {},
   "source": [
    "Поработаем с предсказаниями. Необходимо написать функцию рассчета прибыли с учетом выбора наилучших скважин."
   ]
  },
  {
   "cell_type": "code",
   "execution_count": 15,
   "metadata": {},
   "outputs": [],
   "source": [
    "def revenue(target, prediction_valid, n_top):\n",
    "    geo_sorted = prediction_valid.sort_values(ascending=False)\n",
    "    target = pd.Series(target)\n",
    "    selected = target[geo_sorted.index][:n_top]\n",
    "    return barrel_price * selected.sum()\n",
    "\n",
    "\n"
   ]
  },
  {
   "cell_type": "code",
   "execution_count": 16,
   "metadata": {},
   "outputs": [
    {
     "name": "stdout",
     "output_type": "stream",
     "text": [
      "13320826043.13985\n",
      "12415086696.68151\n",
      "12710349963.599833\n"
     ]
    }
   ],
   "source": [
    "print (revenue(target_valid_0, pd.Series(prediction_valid_0, index=target_valid_0.index), n_top))\n",
    "print (revenue(target_valid_1, pd.Series(prediction_valid_1, index=target_valid_1.index), n_top))\n",
    "print (revenue(target_valid_2, pd.Series(prediction_valid_2, index=target_valid_2.index), n_top))"
   ]
  },
  {
   "cell_type": "markdown",
   "metadata": {},
   "source": [
    "Мы видим, что во всех случаех прибыль превышает 10 миллиардов, которые предполагается вложить в разработку скважин. Однако, необходимо иметь в виду, что сами модели отличаются друг от друга по качеству. Соответственно, у этого предсказания разные риски, в связи с чем далее необходимо проанализировать доверительные интервалы."
   ]
  },
  {
   "cell_type": "markdown",
   "metadata": {},
   "source": [
    "## Расчёт прибыли и рисков "
   ]
  },
  {
   "cell_type": "markdown",
   "metadata": {},
   "source": [
    "Используем bootstrap и оценим доверительный интервал."
   ]
  },
  {
   "cell_type": "code",
   "execution_count": 17,
   "metadata": {},
   "outputs": [],
   "source": [
    "#bootstrap:\n",
    "\n",
    "def bootstrap_geo(target, prediction_valid):\n",
    "    state = np.random.RandomState(12345)\n",
    "    values = []\n",
    "    count = 0\n",
    "    for i in range(1000):\n",
    "        subsample = prediction_valid.sample(n = n_all, replace=True, random_state=state)\n",
    "        rev = revenue(target, subsample, n_top) - 10000000000\n",
    "        if rev < 0:\n",
    "            count += 1\n",
    "        values.append(rev)   \n",
    "    values = pd.Series(values)\n",
    "    lower = values.quantile(0.025) # < напишите код здесь >\n",
    "    upper =  values.quantile(0.975)# < напишите код здесь >\n",
    "    mean = values.mean()\n",
    "    return (mean, lower, upper, count / 1000)"
   ]
  },
  {
   "cell_type": "code",
   "execution_count": 18,
   "metadata": {},
   "outputs": [
    {
     "name": "stdout",
     "output_type": "stream",
     "text": [
      "Средняя прибыль для района 0 -  396164984.802371 Нижняя граница доверительного интервала - -111215545.89049526 Верхняя -  909766941.5534226 0.069\n",
      "Средняя прибыль для района 1 -  456045105.786661 Нижняя граница доверительного интервала - 33820509.39898363 Верхняя -  852289453.866036 0.015\n",
      "Средняя прибыль для района 2 -  404403866.56835735 Нижняя граница доверительного интервала - -163350413.39560106 Верхняя -  950359574.9237995 0.076\n"
     ]
    }
   ],
   "source": [
    "mean, lower, upper, prob = bootstrap_geo(target_valid_0, pd.Series(prediction_valid_0, index=target_valid_0.index))\n",
    "print (\"Средняя прибыль для района 0 - \", mean, 'Нижняя граница доверительного интервала -', lower,'Верхняя - ', upper, prob)\n",
    "\n",
    "mean, lower, upper, prob = bootstrap_geo(target_valid_1, pd.Series(prediction_valid_1, index=target_valid_1.index))\n",
    "print (\"Средняя прибыль для района 1 - \", mean, 'Нижняя граница доверительного интервала -', lower,'Верхняя - ', upper,  prob)\n",
    "\n",
    "mean, lower, upper, prob = bootstrap_geo(target_valid_2, pd.Series(prediction_valid_2, index=target_valid_2.index))\n",
    "print (\"Средняя прибыль для района 2 - \", mean, 'Нижняя граница доверительного интервала -', lower,'Верхняя - ', upper,  prob)"
   ]
  },
  {
   "cell_type": "markdown",
   "metadata": {},
   "source": [
    "Выводы: Нижняя граница доверительного интервала оказалась положительной только для региона 1, что логично, ведь модель обеспечивала наибольшую точность, а значит и надежность. Вероятность получить убыток в первом регионе - 0,015. Таким образом, целесообразно производить разработку месторождений в регионе 1.\n",
    "\n"
   ]
  },
  {
   "cell_type": "markdown",
   "metadata": {
    "tags": []
   },
   "source": [
    "## Выводы по проекту"
   ]
  },
  {
   "cell_type": "markdown",
   "metadata": {},
   "source": [
    "В проекте получены следующие результаты:\n",
    "- Загружены и подготовлены данные\n",
    "- Данные разбиты на обучающую и валидационную выборки, обучены модели (в качестве основной принята модель линейной регрессии)\n",
    "- Рассчитано минимальное среднее количество продукта в месторождениях регионов, определена рентабельность разработки (судя по среднему значению, разработка не будет рентабельна ни в одном регионе)\n",
    "- Проведена оценка рисков: с помощью процедуры Bootstrap получена выборка средних значений, в результате чего оценен доверительный интервал, установивший, что для первого региона вероятность того, что разработка будет нерентабельна - 0,015. В остальных регионах риски слишком высоки. Таким образом, обоснован выбор региона - регион № 1."
   ]
  }
 ],
 "metadata": {
  "ExecuteTimeLog": [
   {
    "duration": 2615,
    "start_time": "2022-05-09T10:43:54.591Z"
   },
   {
    "duration": 235,
    "start_time": "2022-05-09T10:45:32.701Z"
   },
   {
    "duration": 595,
    "start_time": "2022-05-09T10:45:35.939Z"
   },
   {
    "duration": 87,
    "start_time": "2022-05-09T10:45:37.203Z"
   },
   {
    "duration": 250,
    "start_time": "2022-05-09T10:48:59.197Z"
   },
   {
    "duration": 77,
    "start_time": "2022-05-09T10:49:04.766Z"
   },
   {
    "duration": 211,
    "start_time": "2022-05-09T10:49:28.243Z"
   },
   {
    "duration": 14,
    "start_time": "2022-05-09T10:54:24.973Z"
   },
   {
    "duration": 6,
    "start_time": "2022-05-09T10:56:12.229Z"
   },
   {
    "duration": 17,
    "start_time": "2022-05-09T10:56:30.248Z"
   },
   {
    "duration": 16,
    "start_time": "2022-05-09T10:56:52.109Z"
   },
   {
    "duration": 17,
    "start_time": "2022-05-09T10:59:42.653Z"
   },
   {
    "duration": 59,
    "start_time": "2022-05-09T11:03:22.656Z"
   },
   {
    "duration": 50,
    "start_time": "2022-05-09T11:03:31.590Z"
   },
   {
    "duration": 0,
    "start_time": "2022-05-09T11:21:23.395Z"
   },
   {
    "duration": 1447985,
    "start_time": "2022-05-09T11:21:39.962Z"
   },
   {
    "duration": 41,
    "start_time": "2022-05-09T11:50:49.130Z"
   },
   {
    "duration": 6,
    "start_time": "2022-05-09T11:58:28.842Z"
   },
   {
    "duration": 8221,
    "start_time": "2022-05-09T11:58:47.885Z"
   },
   {
    "duration": 12,
    "start_time": "2022-05-09T11:59:01.221Z"
   },
   {
    "duration": 10097,
    "start_time": "2022-05-09T11:59:04.662Z"
   },
   {
    "duration": 5,
    "start_time": "2022-05-09T11:59:37.937Z"
   },
   {
    "duration": 7740,
    "start_time": "2022-05-09T11:59:39.380Z"
   },
   {
    "duration": 6,
    "start_time": "2022-05-09T11:59:55.832Z"
   },
   {
    "duration": 7604,
    "start_time": "2022-05-09T11:59:56.600Z"
   },
   {
    "duration": 5,
    "start_time": "2022-05-09T12:00:08.044Z"
   },
   {
    "duration": 8373,
    "start_time": "2022-05-09T12:00:14.834Z"
   },
   {
    "duration": 23,
    "start_time": "2022-05-09T12:01:05.391Z"
   },
   {
    "duration": 235,
    "start_time": "2022-05-09T12:01:45.836Z"
   },
   {
    "duration": 139,
    "start_time": "2022-05-09T12:01:48.240Z"
   },
   {
    "duration": 59,
    "start_time": "2022-05-09T12:01:55.924Z"
   },
   {
    "duration": 20818,
    "start_time": "2022-05-09T12:02:23.731Z"
   },
   {
    "duration": 110,
    "start_time": "2022-05-09T12:03:59.170Z"
   },
   {
    "duration": 8,
    "start_time": "2022-05-09T12:04:00.411Z"
   },
   {
    "duration": 25561,
    "start_time": "2022-05-09T12:04:02.635Z"
   },
   {
    "duration": 8156,
    "start_time": "2022-05-09T13:52:11.643Z"
   },
   {
    "duration": 8293,
    "start_time": "2022-05-09T13:52:30.041Z"
   },
   {
    "duration": 6,
    "start_time": "2022-05-09T13:53:38.934Z"
   },
   {
    "duration": 6,
    "start_time": "2022-05-09T13:53:48.694Z"
   },
   {
    "duration": 4,
    "start_time": "2022-05-09T13:53:56.498Z"
   },
   {
    "duration": 15,
    "start_time": "2022-05-09T13:54:11.565Z"
   },
   {
    "duration": 20596,
    "start_time": "2022-05-09T13:54:14.413Z"
   },
   {
    "duration": 9,
    "start_time": "2022-05-09T13:54:37.226Z"
   },
   {
    "duration": 7707,
    "start_time": "2022-05-09T13:55:32.301Z"
   },
   {
    "duration": 6,
    "start_time": "2022-05-09T13:55:54.866Z"
   },
   {
    "duration": 21261,
    "start_time": "2022-05-09T13:55:55.567Z"
   },
   {
    "duration": 7,
    "start_time": "2022-05-09T13:56:49.648Z"
   },
   {
    "duration": 4,
    "start_time": "2022-05-09T14:02:50.119Z"
   },
   {
    "duration": 6,
    "start_time": "2022-05-09T14:05:22.668Z"
   },
   {
    "duration": 5,
    "start_time": "2022-05-09T14:07:21.513Z"
   },
   {
    "duration": 4,
    "start_time": "2022-05-09T14:08:49.871Z"
   },
   {
    "duration": 6,
    "start_time": "2022-05-09T14:09:15.118Z"
   },
   {
    "duration": 3,
    "start_time": "2022-05-09T14:11:47.281Z"
   },
   {
    "duration": 10,
    "start_time": "2022-05-09T14:12:00.202Z"
   },
   {
    "duration": 8,
    "start_time": "2022-05-09T14:12:11.333Z"
   },
   {
    "duration": 9,
    "start_time": "2022-05-09T14:12:53.017Z"
   },
   {
    "duration": 4,
    "start_time": "2022-05-09T14:19:30.956Z"
   },
   {
    "duration": 18,
    "start_time": "2022-05-09T14:19:54.091Z"
   },
   {
    "duration": 5,
    "start_time": "2022-05-09T14:20:48.846Z"
   },
   {
    "duration": 17,
    "start_time": "2022-05-09T14:20:49.615Z"
   },
   {
    "duration": 5,
    "start_time": "2022-05-09T14:23:15.875Z"
   },
   {
    "duration": 10,
    "start_time": "2022-05-09T14:23:16.584Z"
   },
   {
    "duration": 18,
    "start_time": "2022-05-09T14:23:58.013Z"
   },
   {
    "duration": 21,
    "start_time": "2022-05-09T14:24:15.922Z"
   },
   {
    "duration": 20,
    "start_time": "2022-05-09T14:24:24.388Z"
   },
   {
    "duration": 18,
    "start_time": "2022-05-09T14:31:43.810Z"
   },
   {
    "duration": 16,
    "start_time": "2022-05-09T14:32:06.321Z"
   },
   {
    "duration": 815,
    "start_time": "2022-05-09T14:32:16.498Z"
   },
   {
    "duration": 1120,
    "start_time": "2022-05-09T14:32:50.015Z"
   },
   {
    "duration": 789,
    "start_time": "2022-05-09T14:32:57.186Z"
   },
   {
    "duration": 791,
    "start_time": "2022-05-09T14:33:05.402Z"
   },
   {
    "duration": 791,
    "start_time": "2022-05-09T14:33:09.378Z"
   },
   {
    "duration": 810,
    "start_time": "2022-05-09T14:34:12.923Z"
   },
   {
    "duration": 1125,
    "start_time": "2022-05-09T14:34:18.642Z"
   },
   {
    "duration": 796,
    "start_time": "2022-05-09T14:34:26.607Z"
   },
   {
    "duration": 1025,
    "start_time": "2022-05-09T14:35:22.465Z"
   },
   {
    "duration": 985,
    "start_time": "2022-05-09T14:35:35.142Z"
   },
   {
    "duration": 817,
    "start_time": "2022-05-09T14:35:41.484Z"
   },
   {
    "duration": 891,
    "start_time": "2022-05-09T14:35:50.714Z"
   },
   {
    "duration": 7,
    "start_time": "2022-05-09T16:45:44.346Z"
   },
   {
    "duration": 852,
    "start_time": "2022-05-09T16:46:01.313Z"
   },
   {
    "duration": 848,
    "start_time": "2022-05-09T16:46:49.640Z"
   },
   {
    "duration": 2703,
    "start_time": "2022-05-09T16:47:04.914Z"
   },
   {
    "duration": 20,
    "start_time": "2022-05-09T16:47:07.620Z"
   },
   {
    "duration": 14,
    "start_time": "2022-05-10T13:16:46.921Z"
   },
   {
    "duration": 2696,
    "start_time": "2022-05-10T13:16:51.534Z"
   },
   {
    "duration": 663,
    "start_time": "2022-05-10T13:16:54.232Z"
   },
   {
    "duration": 133,
    "start_time": "2022-05-10T13:16:54.897Z"
   },
   {
    "duration": 317,
    "start_time": "2022-05-10T13:16:55.034Z"
   },
   {
    "duration": 15,
    "start_time": "2022-05-10T13:16:55.354Z"
   },
   {
    "duration": 23,
    "start_time": "2022-05-10T13:16:55.372Z"
   },
   {
    "duration": 11863,
    "start_time": "2022-05-10T13:16:55.397Z"
   },
   {
    "duration": 0,
    "start_time": "2022-05-10T13:17:07.263Z"
   },
   {
    "duration": 0,
    "start_time": "2022-05-10T13:17:07.265Z"
   },
   {
    "duration": 0,
    "start_time": "2022-05-10T13:17:07.266Z"
   },
   {
    "duration": 0,
    "start_time": "2022-05-10T13:17:07.268Z"
   },
   {
    "duration": 0,
    "start_time": "2022-05-10T13:17:07.270Z"
   },
   {
    "duration": 0,
    "start_time": "2022-05-10T13:17:07.271Z"
   },
   {
    "duration": 0,
    "start_time": "2022-05-10T13:17:07.273Z"
   },
   {
    "duration": 0,
    "start_time": "2022-05-10T13:17:07.274Z"
   },
   {
    "duration": 0,
    "start_time": "2022-05-10T13:17:07.276Z"
   },
   {
    "duration": 0,
    "start_time": "2022-05-10T13:17:07.277Z"
   },
   {
    "duration": 0,
    "start_time": "2022-05-10T13:17:07.279Z"
   },
   {
    "duration": 0,
    "start_time": "2022-05-10T13:17:07.280Z"
   },
   {
    "duration": 4,
    "start_time": "2022-05-10T13:17:22.475Z"
   },
   {
    "duration": 12,
    "start_time": "2022-05-10T13:17:24.779Z"
   },
   {
    "duration": 445,
    "start_time": "2022-05-10T13:17:24.794Z"
   },
   {
    "duration": 82,
    "start_time": "2022-05-10T13:17:25.242Z"
   },
   {
    "duration": 257,
    "start_time": "2022-05-10T13:17:25.326Z"
   },
   {
    "duration": 12,
    "start_time": "2022-05-10T13:17:25.586Z"
   },
   {
    "duration": 34,
    "start_time": "2022-05-10T13:17:25.600Z"
   },
   {
    "duration": 8,
    "start_time": "2022-05-10T13:17:25.637Z"
   },
   {
    "duration": 209,
    "start_time": "2022-05-10T13:17:25.648Z"
   },
   {
    "duration": 6,
    "start_time": "2022-05-10T13:17:25.860Z"
   },
   {
    "duration": 316,
    "start_time": "2022-05-10T13:17:25.953Z"
   },
   {
    "duration": 86,
    "start_time": "2022-05-10T13:17:26.272Z"
   },
   {
    "duration": 98,
    "start_time": "2022-05-10T13:17:26.362Z"
   },
   {
    "duration": 10,
    "start_time": "2022-05-10T13:17:26.462Z"
   },
   {
    "duration": 6,
    "start_time": "2022-05-10T13:17:26.477Z"
   },
   {
    "duration": 14,
    "start_time": "2022-05-10T13:17:26.485Z"
   },
   {
    "duration": 6,
    "start_time": "2022-05-10T13:17:26.502Z"
   },
   {
    "duration": 51,
    "start_time": "2022-05-10T13:17:26.510Z"
   },
   {
    "duration": 6,
    "start_time": "2022-05-10T13:17:26.563Z"
   },
   {
    "duration": 2290,
    "start_time": "2022-05-10T13:17:26.572Z"
   },
   {
    "duration": 114,
    "start_time": "2022-05-10T13:17:37.143Z"
   },
   {
    "duration": 5,
    "start_time": "2022-05-10T13:17:40.278Z"
   },
   {
    "duration": 529,
    "start_time": "2022-05-10T13:17:44.722Z"
   },
   {
    "duration": 8,
    "start_time": "2022-05-10T13:17:49.606Z"
   },
   {
    "duration": 29,
    "start_time": "2022-05-10T13:19:52.573Z"
   },
   {
    "duration": 47,
    "start_time": "2022-05-10T13:20:02.377Z"
   },
   {
    "duration": 8,
    "start_time": "2022-05-10T13:21:02.306Z"
   },
   {
    "duration": 3118,
    "start_time": "2022-05-10T13:21:03.223Z"
   },
   {
    "duration": 2645,
    "start_time": "2022-05-10T13:21:59.994Z"
   },
   {
    "duration": 7,
    "start_time": "2022-05-10T13:34:46.698Z"
   },
   {
    "duration": 1945,
    "start_time": "2022-05-10T13:34:46.708Z"
   },
   {
    "duration": 3299,
    "start_time": "2022-05-10T13:35:04.768Z"
   },
   {
    "duration": 117,
    "start_time": "2022-05-10T13:36:09.822Z"
   },
   {
    "duration": 114,
    "start_time": "2022-05-10T13:36:11.595Z"
   },
   {
    "duration": 110,
    "start_time": "2022-05-10T13:36:13.897Z"
   },
   {
    "duration": 2392,
    "start_time": "2022-05-10T13:38:14.076Z"
   },
   {
    "duration": 8,
    "start_time": "2022-05-11T15:18:18.462Z"
   },
   {
    "duration": 1624,
    "start_time": "2022-05-11T15:18:21.041Z"
   },
   {
    "duration": 341,
    "start_time": "2022-05-11T15:18:22.667Z"
   },
   {
    "duration": 56,
    "start_time": "2022-05-11T15:18:23.009Z"
   },
   {
    "duration": 153,
    "start_time": "2022-05-11T15:18:23.067Z"
   },
   {
    "duration": 9,
    "start_time": "2022-05-11T15:18:23.222Z"
   },
   {
    "duration": 14,
    "start_time": "2022-05-11T15:18:23.232Z"
   },
   {
    "duration": 3,
    "start_time": "2022-05-11T15:18:23.248Z"
   },
   {
    "duration": 51,
    "start_time": "2022-05-11T15:18:23.253Z"
   },
   {
    "duration": 95,
    "start_time": "2022-05-11T15:18:23.306Z"
   },
   {
    "duration": 402,
    "start_time": "2022-05-11T15:18:23.404Z"
   },
   {
    "duration": 92,
    "start_time": "2022-05-11T15:18:23.808Z"
   },
   {
    "duration": 4,
    "start_time": "2022-05-11T15:18:23.902Z"
   },
   {
    "duration": 94,
    "start_time": "2022-05-11T15:18:23.908Z"
   },
   {
    "duration": 6,
    "start_time": "2022-05-11T15:18:24.004Z"
   },
   {
    "duration": 11,
    "start_time": "2022-05-11T15:18:24.011Z"
   },
   {
    "duration": 7,
    "start_time": "2022-05-11T15:18:24.023Z"
   },
   {
    "duration": 130,
    "start_time": "2022-05-11T15:18:24.031Z"
   },
   {
    "duration": 0,
    "start_time": "2022-05-11T15:18:24.163Z"
   },
   {
    "duration": 0,
    "start_time": "2022-05-11T15:18:24.164Z"
   },
   {
    "duration": 3,
    "start_time": "2022-05-11T15:18:36.339Z"
   },
   {
    "duration": 24,
    "start_time": "2022-05-11T15:18:37.234Z"
   },
   {
    "duration": 4,
    "start_time": "2022-05-11T15:19:03.227Z"
   },
   {
    "duration": 22,
    "start_time": "2022-05-11T15:19:04.809Z"
   },
   {
    "duration": 4,
    "start_time": "2022-05-11T15:19:44.378Z"
   },
   {
    "duration": 23,
    "start_time": "2022-05-11T15:19:46.111Z"
   },
   {
    "duration": 23,
    "start_time": "2022-05-11T15:20:01.066Z"
   },
   {
    "duration": 3,
    "start_time": "2022-05-11T15:20:37.548Z"
   },
   {
    "duration": 12,
    "start_time": "2022-05-11T15:20:38.831Z"
   },
   {
    "duration": 2,
    "start_time": "2022-05-11T15:20:44.408Z"
   },
   {
    "duration": 3,
    "start_time": "2022-05-11T15:20:46.899Z"
   },
   {
    "duration": 15,
    "start_time": "2022-05-11T15:20:48.481Z"
   },
   {
    "duration": 3,
    "start_time": "2022-05-11T15:21:04.770Z"
   },
   {
    "duration": 21,
    "start_time": "2022-05-11T15:21:06.065Z"
   },
   {
    "duration": 3,
    "start_time": "2022-05-11T15:21:17.732Z"
   },
   {
    "duration": 21,
    "start_time": "2022-05-11T15:21:19.034Z"
   },
   {
    "duration": 3,
    "start_time": "2022-05-11T15:21:56.943Z"
   },
   {
    "duration": 24,
    "start_time": "2022-05-11T15:21:58.482Z"
   },
   {
    "duration": 4,
    "start_time": "2022-05-11T15:23:01.201Z"
   },
   {
    "duration": 24,
    "start_time": "2022-05-11T15:23:02.889Z"
   },
   {
    "duration": 3,
    "start_time": "2022-05-11T15:23:57.140Z"
   },
   {
    "duration": 31,
    "start_time": "2022-05-11T15:23:58.358Z"
   },
   {
    "duration": 3,
    "start_time": "2022-05-11T15:24:10.239Z"
   },
   {
    "duration": 22,
    "start_time": "2022-05-11T15:24:11.610Z"
   },
   {
    "duration": 4,
    "start_time": "2022-05-11T15:24:18.328Z"
   },
   {
    "duration": 3,
    "start_time": "2022-05-11T15:24:30.100Z"
   },
   {
    "duration": 24,
    "start_time": "2022-05-11T15:24:31.449Z"
   },
   {
    "duration": 4,
    "start_time": "2022-05-11T15:24:54.285Z"
   },
   {
    "duration": 23,
    "start_time": "2022-05-11T15:24:55.792Z"
   },
   {
    "duration": 4,
    "start_time": "2022-05-11T15:25:17.720Z"
   },
   {
    "duration": 29,
    "start_time": "2022-05-11T15:25:18.986Z"
   },
   {
    "duration": 3,
    "start_time": "2022-05-11T15:26:21.724Z"
   },
   {
    "duration": 14,
    "start_time": "2022-05-11T15:26:23.234Z"
   },
   {
    "duration": 3,
    "start_time": "2022-05-11T15:26:41.616Z"
   },
   {
    "duration": 17,
    "start_time": "2022-05-11T15:26:43.231Z"
   },
   {
    "duration": 4,
    "start_time": "2022-05-11T15:26:51.249Z"
   },
   {
    "duration": 4,
    "start_time": "2022-05-11T15:27:00.743Z"
   },
   {
    "duration": 0,
    "start_time": "2022-05-11T15:27:04.864Z"
   },
   {
    "duration": 1915,
    "start_time": "2022-05-11T15:27:07.444Z"
   },
   {
    "duration": 4,
    "start_time": "2022-05-11T15:27:36.931Z"
   },
   {
    "duration": 20,
    "start_time": "2022-05-11T15:27:38.786Z"
   },
   {
    "duration": 3,
    "start_time": "2022-05-11T15:28:16.961Z"
   },
   {
    "duration": 23,
    "start_time": "2022-05-11T15:28:18.022Z"
   },
   {
    "duration": 4,
    "start_time": "2022-05-11T15:28:39.859Z"
   },
   {
    "duration": 19,
    "start_time": "2022-05-11T15:28:41.191Z"
   },
   {
    "duration": 26,
    "start_time": "2022-05-11T15:30:30.736Z"
   },
   {
    "duration": 16,
    "start_time": "2022-05-11T15:30:39.943Z"
   },
   {
    "duration": 16,
    "start_time": "2022-05-11T15:31:26.636Z"
   },
   {
    "duration": 4,
    "start_time": "2022-05-11T15:32:37.294Z"
   },
   {
    "duration": 21,
    "start_time": "2022-05-11T15:32:37.789Z"
   },
   {
    "duration": 22,
    "start_time": "2022-05-11T15:32:54.085Z"
   },
   {
    "duration": 6,
    "start_time": "2022-05-11T15:33:12.324Z"
   },
   {
    "duration": 2002,
    "start_time": "2022-05-11T15:33:13.290Z"
   },
   {
    "duration": 4,
    "start_time": "2022-05-11T15:36:51.570Z"
   },
   {
    "duration": 16,
    "start_time": "2022-05-11T15:36:53.842Z"
   },
   {
    "duration": 3,
    "start_time": "2022-05-11T15:52:37.569Z"
   },
   {
    "duration": 20,
    "start_time": "2022-05-11T15:52:38.904Z"
   },
   {
    "duration": 4,
    "start_time": "2022-05-11T16:24:00.820Z"
   },
   {
    "duration": 22,
    "start_time": "2022-05-11T16:24:02.826Z"
   },
   {
    "duration": 3,
    "start_time": "2022-05-11T16:35:44.795Z"
   },
   {
    "duration": 16,
    "start_time": "2022-05-11T16:35:48.229Z"
   },
   {
    "duration": 2027,
    "start_time": "2022-05-11T16:36:54.815Z"
   },
   {
    "duration": 3,
    "start_time": "2022-05-11T16:37:54.866Z"
   },
   {
    "duration": 23,
    "start_time": "2022-05-11T16:37:56.547Z"
   },
   {
    "duration": 5,
    "start_time": "2022-05-11T16:38:30.422Z"
   },
   {
    "duration": 8,
    "start_time": "2022-05-12T09:38:47.870Z"
   },
   {
    "duration": 64,
    "start_time": "2022-05-12T09:38:49.296Z"
   },
   {
    "duration": 1697,
    "start_time": "2022-05-12T09:38:51.879Z"
   },
   {
    "duration": 351,
    "start_time": "2022-05-12T09:38:53.578Z"
   },
   {
    "duration": 79,
    "start_time": "2022-05-12T09:38:53.931Z"
   },
   {
    "duration": 212,
    "start_time": "2022-05-12T09:38:54.012Z"
   },
   {
    "duration": 11,
    "start_time": "2022-05-12T09:38:54.226Z"
   },
   {
    "duration": 14,
    "start_time": "2022-05-12T09:38:54.239Z"
   },
   {
    "duration": 17,
    "start_time": "2022-05-12T09:38:54.255Z"
   },
   {
    "duration": 100,
    "start_time": "2022-05-12T09:38:54.275Z"
   },
   {
    "duration": 7,
    "start_time": "2022-05-12T09:38:54.376Z"
   },
   {
    "duration": 389,
    "start_time": "2022-05-12T09:38:54.395Z"
   },
   {
    "duration": 11,
    "start_time": "2022-05-12T09:38:54.786Z"
   },
   {
    "duration": 174,
    "start_time": "2022-05-12T09:38:54.799Z"
   },
   {
    "duration": 16,
    "start_time": "2022-05-12T09:38:54.975Z"
   },
   {
    "duration": 13,
    "start_time": "2022-05-12T09:38:54.993Z"
   },
   {
    "duration": 8,
    "start_time": "2022-05-12T09:38:55.008Z"
   },
   {
    "duration": 4,
    "start_time": "2022-05-12T09:38:55.017Z"
   },
   {
    "duration": 26,
    "start_time": "2022-05-12T09:38:55.023Z"
   },
   {
    "duration": 27,
    "start_time": "2022-05-12T09:38:55.051Z"
   },
   {
    "duration": 6953,
    "start_time": "2022-05-12T09:38:55.080Z"
   },
   {
    "duration": 7,
    "start_time": "2022-05-12T09:39:18.512Z"
   },
   {
    "duration": 22,
    "start_time": "2022-05-12T09:39:29.280Z"
   },
   {
    "duration": 3,
    "start_time": "2022-05-12T09:41:05.276Z"
   },
   {
    "duration": 22,
    "start_time": "2022-05-12T09:41:07.093Z"
   },
   {
    "duration": 92,
    "start_time": "2022-05-12T09:41:59.644Z"
   },
   {
    "duration": 4,
    "start_time": "2022-05-12T09:42:04.898Z"
   },
   {
    "duration": 31,
    "start_time": "2022-05-12T09:42:06.637Z"
   },
   {
    "duration": 148,
    "start_time": "2022-05-12T09:43:31.423Z"
   },
   {
    "duration": 4,
    "start_time": "2022-05-12T09:43:52.561Z"
   },
   {
    "duration": 35,
    "start_time": "2022-05-12T09:43:54.605Z"
   },
   {
    "duration": 4,
    "start_time": "2022-05-12T09:46:35.693Z"
   },
   {
    "duration": 22,
    "start_time": "2022-05-12T09:46:43.735Z"
   },
   {
    "duration": 3,
    "start_time": "2022-05-12T09:46:58.575Z"
   },
   {
    "duration": 25,
    "start_time": "2022-05-12T09:47:00.111Z"
   },
   {
    "duration": 24,
    "start_time": "2022-05-12T09:47:16.170Z"
   },
   {
    "duration": 17,
    "start_time": "2022-05-12T09:47:32.771Z"
   },
   {
    "duration": 26,
    "start_time": "2022-05-12T09:47:51.825Z"
   },
   {
    "duration": 25,
    "start_time": "2022-05-12T09:48:11.960Z"
   },
   {
    "duration": 4,
    "start_time": "2022-05-12T09:48:35.681Z"
   },
   {
    "duration": 25,
    "start_time": "2022-05-12T09:48:39.479Z"
   },
   {
    "duration": 20,
    "start_time": "2022-05-12T09:48:46.018Z"
   },
   {
    "duration": 3,
    "start_time": "2022-05-12T09:49:12.297Z"
   },
   {
    "duration": 19,
    "start_time": "2022-05-12T09:49:13.406Z"
   },
   {
    "duration": 3,
    "start_time": "2022-05-12T09:49:16.879Z"
   },
   {
    "duration": 22,
    "start_time": "2022-05-12T09:49:17.979Z"
   },
   {
    "duration": 27,
    "start_time": "2022-05-12T09:49:26.480Z"
   },
   {
    "duration": 4,
    "start_time": "2022-05-12T09:49:28.232Z"
   },
   {
    "duration": 21,
    "start_time": "2022-05-12T09:49:29.922Z"
   },
   {
    "duration": 5,
    "start_time": "2022-05-12T09:49:33.550Z"
   },
   {
    "duration": 49,
    "start_time": "2022-05-12T09:49:34.443Z"
   },
   {
    "duration": 28,
    "start_time": "2022-05-12T09:49:55.390Z"
   },
   {
    "duration": 5,
    "start_time": "2022-05-12T09:53:28.944Z"
   },
   {
    "duration": 3,
    "start_time": "2022-05-12T09:53:47.501Z"
   },
   {
    "duration": 4,
    "start_time": "2022-05-12T09:53:49.587Z"
   },
   {
    "duration": 637,
    "start_time": "2022-05-12T09:53:51.769Z"
   },
   {
    "duration": 1878,
    "start_time": "2022-05-12T09:54:19.632Z"
   },
   {
    "duration": 20,
    "start_time": "2022-05-12T09:55:06.307Z"
   },
   {
    "duration": 4,
    "start_time": "2022-05-12T09:55:09.965Z"
   },
   {
    "duration": 1795,
    "start_time": "2022-05-12T09:55:10.635Z"
   }
  ],
  "kernelspec": {
   "display_name": "Python 3 (ipykernel)",
   "language": "python",
   "name": "python3"
  },
  "language_info": {
   "codemirror_mode": {
    "name": "ipython",
    "version": 3
   },
   "file_extension": ".py",
   "mimetype": "text/x-python",
   "name": "python",
   "nbconvert_exporter": "python",
   "pygments_lexer": "ipython3",
   "version": "3.9.12"
  },
  "toc": {
   "base_numbering": 1,
   "nav_menu": {},
   "number_sections": true,
   "sideBar": true,
   "skip_h1_title": true,
   "title_cell": "Table of Contents",
   "title_sidebar": "Contents",
   "toc_cell": false,
   "toc_position": {},
   "toc_section_display": true,
   "toc_window_display": false
  }
 },
 "nbformat": 4,
 "nbformat_minor": 4
}
